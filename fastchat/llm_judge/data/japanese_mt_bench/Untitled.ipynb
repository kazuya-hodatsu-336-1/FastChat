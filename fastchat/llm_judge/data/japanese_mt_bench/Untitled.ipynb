{
 "cells": [
  {
   "cell_type": "code",
   "execution_count": 1,
   "id": "b3592ec6-d74b-4b84-a951-340ffc94c80c",
   "metadata": {},
   "outputs": [
    {
     "name": "stdout",
     "output_type": "stream",
     "text": [
      "Available models: ['Gemma-2-9B-It-SPPO-Iter3' 'gemma-2-9b-it' 'ezo-gemma-2-9b-it1'\n",
      " 'ezo-gemma-2-9b-it3' 'EZO-9B-gemma-2-it-x1' 'EZO-9B-gemma-2-it-x2'\n",
      " 'EZO-9B-gemma-2-it-x3' 'Llama-3-ELYZA-JP-8B' 'gpt-4o-2024-05-13'\n",
      " 'gpt-4-turbo' 'Phi-3-small-128k-instruct-iter1' 'EZO-EX1'\n",
      " 'Llama-3-EZO-8b-Common-v1' 'Llama-3-EZO-8b-Common-v2'\n",
      " 'Llama-3-EZO-8b-Common-v3' 'Llama-3-EZO-8b-Common-v2_1'\n",
      " 'Llama-3-EZO-8b-Common-v2_2' 'Llama-3-EZO-8b-Common-v2_3'\n",
      " 'internlm2_5-7b-chat-EZO_1' 'internlm2_5-7b-chat-EZO_2'\n",
      " 'internlm2_5-7b-chat' 'internlm2_5-7b-chat-EZO_3'\n",
      " 'EZO-EX-9B-gemma-2-it-1' 'EZO-SP-9B-gemma-2-it-1'\n",
      " 'EZO-SP-9B-gemma-2-it-2' 'EZO-SP-9B-gemma-2-it-3' 'EZO-2-9B-gemma-2-it-1']\n"
     ]
    }
   ],
   "source": [
    "import json\n",
    "import pandas as pd\n",
    "\n",
    "CATEGORIES = [\"Coding\", \"Extraction\", \"Humanities\", \"Math\", \"Reasoning\", \"Roleplay\", \"STEM\", \"Writing\"]\n",
    "\n",
    "def get_model_df():\n",
    "    q2result = []\n",
    "    with open(\"./model_judgment/gpt-4_single.jsonl\", \"r\") as fin:\n",
    "        for line in fin:\n",
    "            obj = json.loads(line)\n",
    "            obj[\"category\"] = CATEGORIES[(int(obj[\"question_id\"])-1)//10]\n",
    "            q2result.append(obj)\n",
    "    return pd.DataFrame(q2result)\n",
    "\n",
    "df = get_model_df()\n",
    "all_models = df[\"model\"].unique()\n",
    "print(\"Available models:\", all_models)"
   ]
  },
  {
   "cell_type": "code",
   "execution_count": 2,
   "id": "dafe9431-771d-4cf7-b14f-b1bdcf8d4d60",
   "metadata": {},
   "outputs": [
    {
     "name": "stdout",
     "output_type": "stream",
     "text": [
      "Model: EZO-2-9B-gemma-2-it-1, Category: Coding, Score: 7.35\n",
      "Model: EZO-2-9B-gemma-2-it-1, Category: Extraction, Score: 8.89\n",
      "Model: EZO-2-9B-gemma-2-it-1, Category: Humanities, Score: 9.90\n",
      "Model: EZO-2-9B-gemma-2-it-1, Category: Math, Score: 7.50\n",
      "Model: EZO-2-9B-gemma-2-it-1, Category: Reasoning, Score: 8.20\n",
      "Model: EZO-2-9B-gemma-2-it-1, Category: Roleplay, Score: 9.60\n",
      "Model: EZO-2-9B-gemma-2-it-1, Category: STEM, Score: 9.75\n",
      "Model: EZO-2-9B-gemma-2-it-1, Category: Writing, Score: 9.35\n"
     ]
    }
   ],
   "source": [
    "scores_all = []\n",
    "for model in all_models:\n",
    "    for cat in CATEGORIES:\n",
    "        res = df[(df[\"category\"]==cat) & (df[\"model\"]==model) & (df[\"score\"] >= 0)]\n",
    "        score = res[\"score\"].mean()\n",
    "        scores_all.append({\"model\": model, \"category\": cat, \"score\": score})\n",
    "\n",
    "target_models = [\"EZO-2-9B-gemma-2-it-1\"]\n",
    "scores_target = [score for score in scores_all if score[\"model\"] in target_models]\n",
    "\n",
    "# スコアを表示\n",
    "for score in scores_target:\n",
    "    print(f\"Model: {score['model']}, Category: {score['category']}, Score: {score['score']:.2f}\")"
   ]
  }
 ],
 "metadata": {
  "kernelspec": {
   "display_name": "Python 3 (ipykernel)",
   "language": "python",
   "name": "python3"
  },
  "language_info": {
   "codemirror_mode": {
    "name": "ipython",
    "version": 3
   },
   "file_extension": ".py",
   "mimetype": "text/x-python",
   "name": "python",
   "nbconvert_exporter": "python",
   "pygments_lexer": "ipython3",
   "version": "3.10.12"
  }
 },
 "nbformat": 4,
 "nbformat_minor": 5
}
