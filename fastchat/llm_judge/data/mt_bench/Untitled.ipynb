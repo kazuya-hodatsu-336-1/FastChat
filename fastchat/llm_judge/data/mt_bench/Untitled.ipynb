{
 "cells": [
  {
   "cell_type": "code",
   "execution_count": 10,
   "id": "b3592ec6-d74b-4b84-a951-340ffc94c80c",
   "metadata": {},
   "outputs": [
    {
     "name": "stdout",
     "output_type": "stream",
     "text": [
      "Available models: ['Qwen3-4B' 'Qwen3-4B-HCSD_MPO_SFT1']\n"
     ]
    }
   ],
   "source": [
    "import json\n",
    "import pandas as pd\n",
    "\n",
    "# CATEGORIES = [\"Coding\", \"Extraction\", \"Humanities\", \"Math\", \"Reasoning\", \"Roleplay\", \"STEM\", \"Writing\"]\n",
    "\n",
    "def get_model_df():\n",
    "    q2result = []\n",
    "    with open(\"./model_judgment/gpt-4o_single.jsonl\", \"r\") as fin:\n",
    "        for line in fin:\n",
    "            obj = json.loads(line)\n",
    "            # obj[\"category\"] = CATEGORIES[(int(obj[\"question_id\"])-1)//10]\n",
    "            q2result.append(obj)\n",
    "    return pd.DataFrame(q2result)\n",
    "\n",
    "df = get_model_df()\n",
    "all_models = df[\"model\"].unique()\n",
    "print(\"Available models:\", all_models)"
   ]
  },
  {
   "cell_type": "code",
   "execution_count": 11,
   "id": "dafe9431-771d-4cf7-b14f-b1bdcf8d4d60",
   "metadata": {},
   "outputs": [
    {
     "name": "stdout",
     "output_type": "stream",
     "text": [
      "Model: Qwen3-4B, Score: 8.28\n",
      "Model: Qwen3-4B-HCSD_MPO_SFT1, Score: 8.37\n"
     ]
    }
   ],
   "source": [
    "scores_all = []\n",
    "for model in all_models:\n",
    "    # for cat in CATEGORIES:\n",
    "    res = df[(df[\"model\"]==model) & (df[\"score\"] >= 0)]\n",
    "    score = res[\"score\"].mean()\n",
    "    scores_all.append({\"model\": model, \"score\": score})\n",
    "\n",
    "target_models = ['Qwen3-4B','Qwen3-4B-HCSD_MPO_SFT1']\n",
    "scores_target = [score for score in scores_all if score[\"model\"] in target_models]\n",
    "\n",
    "# スコアを表示\n",
    "for score in scores_target:\n",
    "    print(f\"Model: {score['model']}, Score: {score['score']:.2f}\")"
   ]
  }
 ],
 "metadata": {
  "kernelspec": {
   "display_name": "Python 3 (ipykernel)",
   "language": "python",
   "name": "python3"
  },
  "language_info": {
   "codemirror_mode": {
    "name": "ipython",
    "version": 3
   },
   "file_extension": ".py",
   "mimetype": "text/x-python",
   "name": "python",
   "nbconvert_exporter": "python",
   "pygments_lexer": "ipython3",
   "version": "3.11.11"
  }
 },
 "nbformat": 4,
 "nbformat_minor": 5
}
